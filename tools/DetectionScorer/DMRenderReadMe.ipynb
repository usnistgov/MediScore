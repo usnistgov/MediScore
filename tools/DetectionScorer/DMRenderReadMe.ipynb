{
 "cells": [
  {
   "cell_type": "markdown",
   "metadata": {},
   "source": [
    "# DM Render\n",
    "\n",
    "## Description"
   ]
  },
  {
   "cell_type": "markdown",
   "metadata": {},
   "source": [
    "<p>This script loads DM (dump) files and renders plots. In addition, the user can customize the plots through the command line interface or via json files.</p> "
   ]
  },
  {
   "cell_type": "markdown",
   "metadata": {},
   "source": [
    "## Packages Requirements\n",
    "\n",
    "DMRender has been tested for python 2.7.16 and 3.5+"
   ]
  },
  {
   "cell_type": "markdown",
   "metadata": {},
   "source": [
    "| Package Name  | Minimal Version | Latest Tested |\n",
    "| ---------- | ----- | ----- |\n",
    "| matplotlib | 2.0.2 | 2.2.3 |\n",
    "| numpy | 1.13.3 | 1.16.4 |\n",
    "| scikit-learn | 0.18.1 | 0.19.2 |\n",
    "| scipy | 1.1.0 | 1.2.1|"
   ]
  },
  {
   "cell_type": "markdown",
   "metadata": {},
   "source": [
    "## Command-line Options"
   ]
  },
  {
   "cell_type": "markdown",
   "metadata": {},
   "source": [
    "Syntax:\n",
    "<code>python DMRender.py [-h] -i str [--outputFolder] [--outputFileNameSuffix]\n",
    "                   [--plotOptionJsonFile path] [--curveOptionJsonFile path]\n",
    "                   [--plotType] [--plotTitle] [--plotSubtitle] [--display]\n",
    "                   [--multiFigs] [--noNum] [-v] [--dumpPlotParams]\n",
    "</code>"
   ]
  },
  {
   "cell_type": "markdown",
   "metadata": {},
   "source": [
    "The command-line options for DMRender can be categorized as follows:"
   ]
  },
  {
   "cell_type": "markdown",
   "metadata": {},
   "source": [
    "### Input Options:"
   ]
  },
  {
   "cell_type": "markdown",
   "metadata": {},
   "source": [
    "-i --input  \n",
    "<br>Supports the following inputs:\n",
    " - .txt file containing one file path per line.<br>Note: if you specify the colon ':' after the file name, for example, 'NC16_002_query_0.dm:Splice', the string after the colon will be the legend label (e.g., Spice) for the plot. Otherwise, the legend will be the file name including the path. \n",
    " - .dm file path\n",
    " - a list of pair [{'path':'path/to/dm_file','label':str,'show_label':bool}, {any matplotlib.lines.Line2D properties}].\n",
    " <br> Note: Use an empty dict for the default line option behavior."
   ]
  },
  {
   "cell_type": "markdown",
   "metadata": {},
   "source": [
    "### Output Options:"
   ]
  },
  {
   "cell_type": "markdown",
   "metadata": {},
   "source": [
    "--outputFolder\n",
    "\n",
    "  * Specify the report output path for saving the plot(s). (default is the current directory '.')\n"
   ]
  },
  {
   "cell_type": "markdown",
   "metadata": {},
   "source": [
    "--outputFileNameSuffix\n",
    "\n",
    "  * Specify the output file name suffix. For example, if you specify \"--outputFileNameSuffix NIST_001\",  \n",
    "    you will generate a plot with the following filename suffix \"NIST_001_DET_all.pdf\" (default: 'plot')\n"
   ]
  },
  {
   "cell_type": "markdown",
   "metadata": {},
   "source": [
    "-v --verbose\n",
    "\n",
    "   * Print output with procedure messages on the command-line if this option is specified."
   ]
  },
  {
   "cell_type": "markdown",
   "metadata": {},
   "source": [
    "### Plot Options:"
   ]
  },
  {
   "cell_type": "markdown",
   "metadata": {},
   "source": [
    "--plotType [DET, ROC]\n",
    "\n",
    "  * Define the plot type (default = ROC)\n"
   ]
  },
  {
   "cell_type": "markdown",
   "metadata": {},
   "source": [
    "--plotTitle\n",
    "\n",
    "  * Define the main title for plot (default = Performance)"
   ]
  },
  {
   "cell_type": "markdown",
   "metadata": {},
   "source": [
    "--plotSubtitle\n",
    "\n",
    "  * Define the sub title for plot (default ='')"
   ]
  },
  {
   "cell_type": "markdown",
   "metadata": {},
   "source": [
    "--display\n",
    "\n",
    "  * Display a window with the plot (s) on the command-line if this option is specified (default = False) \n"
   ]
  },
  {
   "cell_type": "markdown",
   "metadata": {},
   "source": [
    "--multiFigs\n",
    "* Generate a single curve plot per partition\n",
    "  <pre>\n",
    "  Plot output: NIST_001_f_roc_0.pdf, NIST_001_f_roc_1.pdf, ...\n",
    "  </pre>"
   ]
  },
  {
   "cell_type": "markdown",
   "metadata": {},
   "source": [
    "--noNum\n",
    "\n",
    "  * Display a legend without the number of target and non-target trials.\n"
   ]
  },
  {
   "cell_type": "markdown",
   "metadata": {},
   "source": [
    "----plotOptionJsonFile\n",
    "\n",
    "* Path to a json file containing plot options\n",
    "\n",
    "An example:\n",
    "```json\n",
    "{\"title\": \"Performance\",\n",
    " \"subtitle\": \"\",\n",
    " \"plot_type\": \"ROC\",\n",
    " \"title_fontsize\": 13,\n",
    " \"subtitle_fontsize\": 11,\n",
    " \"xticks_size\": \"medium\",\n",
    " \"yticks_size\": \"medium\",\n",
    " \"xlabel\": \"False Alarm Rate [%]\",\n",
    " \"xlabel_fontsize\": 11,\n",
    " \"ylabel\": \"Miss Detection Rate [%]\",\n",
    " \"ylabel_fontsize\": 11}\n",
    " ```"
   ]
  },
  {
   "cell_type": "markdown",
   "metadata": {},
   "source": [
    "----curveOptionJsonFile\n",
    "\n",
    "* Path to a json file containing curves options\n",
    "\n",
    "An example:\n",
    "```json\n",
    "[{\"color\": \"red\",\n",
    " \"linestyle\": \"solid\",\n",
    " \"marker\": \".\",\n",
    " \"markersize\": 8,\n",
    " \"markerfacecolor\": \"red\",\n",
    " \"antialiased\": \"False\",\n",
    " \"label\": \"testcases/NC17_004_query_0.dm\"},\n",
    " {\"color\": \"blue\",\n",
    " \"linestyle\": \"dashed\",\n",
    " \"marker\": \".\",\n",
    " \"markersize\": 8,\n",
    " \"markerfacecolor\": \"blue\",\n",
    " \"antialiased\": \"False\",\n",
    " \"label\": \"testcases/NC17_004_query_1.dm\"}]\n",
    " ```"
   ]
  },
  {
   "cell_type": "markdown",
   "metadata": {},
   "source": [
    "## Command-line Usage "
   ]
  },
  {
   "cell_type": "markdown",
   "metadata": {},
   "source": [
    "* Rendering the ROC curve with the '.dm' file  \n",
    "<code>python DMRender.py \n",
    "    -i ../../data/test_suite/dmRenderTests/NC16_001_query_0.dm \n",
    "    --outputFolder ./testcases/ \n",
    "    --outputFileNameSuffix dump_test1 \n",
    "    --display --verbose\n",
    "</code>\n",
    "<br>\n",
    "<img src=\"./notebookImgs/dump_test1_ROC_all.png\" alt=\"Default ROC curve\" width=\"500\" height=\"400\" align=\"left\">"
   ]
  },
  {
   "cell_type": "markdown",
   "metadata": {},
   "source": [
    "* Rendering the ROC curve with the '.txt' file (with the colon ':')  \n",
    "<code>python DMRender.py \n",
    "    -i ../../data/test_suite/dmRenderTests/dm_list_with_colon.txt \n",
    "    --outputFolder ./testcases \n",
    "    --outputFileNameSuffix dump_test2 \n",
    "    --plotTitle DMRenderTest \n",
    "    --plotSubtitle WithColon \n",
    "    --display\n",
    "</code>\n",
    "<br>\n",
    "<img src=\"./notebookImgs/dump_test2_ROC_all.png\" alt=\"Default ROC curve\" width=\"500\" height=\"400\" align=\"left\">"
   ]
  },
  {
   "cell_type": "markdown",
   "metadata": {},
   "source": [
    "* Rendering the ROC curve with the '.txt' file (without the colon ':')  \n",
    "<code>python DMRender.py \n",
    "    -i ../../data/test_suite/dmRenderTests/dm_list_without_colon.txt \n",
    "    --outputFolder ./testcases\n",
    "    --outputFileNameSuffix /dump_test3 \n",
    "    --plotTitle DMRenderTest \n",
    "    --plotSubtitle WithoutColon\n",
    "    --display\n",
    "</code>\n",
    "<br>\n",
    "<img src=\"./notebookImgs/dump_test3_ROC_all.png\" alt=\"Default ROC curve\" width=\"500\" height=\"400\" align=\"left\">"
   ]
  },
  {
   "cell_type": "markdown",
   "metadata": {},
   "source": [
    "* Rendering the ROC curve with a custom string input  \n",
    "<code>python DMRender.py \n",
    "    -i \"[[{'path':'path_dm_file_1.dm','label':'curve_1','show_label':False}, {'color':'grey', 'linestyle': solid'}], [{'path':'path_dm_file_2.dm','label':'curve_2','show_label':False}, {'color':'grey', 'linestyle': solid'}], [{'path':'path_dm_file_3.dm','label':'curve_3','show_label':True}, {'color':'red', 'linestyle': solid'}]]\" \n",
    "    --display --verbose\n",
    "</code>"
   ]
  },
  {
   "cell_type": "markdown",
   "metadata": {},
   "source": [
    "### Old Command-line Usage (Deprecated)"
   ]
  },
  {
   "cell_type": "markdown",
   "metadata": {},
   "source": [
    "* Rendering the ROC curve with the '.dm' file\n",
    "<code>\n",
    "python DMRender.py -i ../../data/test_suite/dmRenderTests/NC16_001_query_0.dm --outRoot ./testcases/dump_test1 --display\n",
    "</code>\n",
    "<img src=\"./notebookImgs/dump_test1_ROC_all.png\" alt=\"Default ROC curve\" width=\"500\" height=\"400\" align=\"left\">"
   ]
  },
  {
   "cell_type": "markdown",
   "metadata": {},
   "source": [
    "* Rendering the ROC curve with the '.txt' file (with the colon ':')\n",
    "<code>\n",
    "python DMRender.py -i ../../data/test_suite/dmRenderTests/dm_list_with_colon.txt --outRoot ./testcases/dump_test2 --plotTitle DMRenderTest --plotSubtitle WithColon -c --display\n",
    "</code>\n",
    "<img src=\"./notebookImgs/dump_test2_ROC_all.png\" alt=\"Default ROC curve\" width=\"500\" height=\"400\" align=\"left\">"
   ]
  },
  {
   "cell_type": "markdown",
   "metadata": {},
   "source": [
    "* Rendering the ROC curve with the '.txt' file (without the colon ':')\n",
    "<code>\n",
    "python DMRender.py -i ../../data/test_suite/dmRenderTests/dm_list_without_colon.txt --outRoot ./testcases/dump_test3 --plotTitle DMRenderTest --plotSubtitle WithoutColon -c --display\n",
    "</code>\n",
    "<img src=\"./notebookImgs/dump_test3_ROC_all.png\" alt=\"Default ROC curve\" width=\"500\" height=\"400\" align=\"left\">"
   ]
  },
  {
   "cell_type": "markdown",
   "metadata": {},
   "source": [
    "* OptOut case dm file\n",
    "<code>\n",
    "python DMRender.py -i ../../data/test_suite/dmRenderTests/NC16_101_query_0.dm --outRoot ./testcases/dump_test4 --plotTitle \"DMRender Optout Test\" -c --display\n",
    "</code>\n",
    "<img src=\"./notebookImgs/dump_test4_ROC_all.png\" alt=\"Default ROC curve\" width=\"500\" height=\"400\" align=\"left\">"
   ]
  },
  {
   "cell_type": "markdown",
   "metadata": {},
   "source": [
    "* Displaying the legend without trial numbers\n",
    "<code>\n",
    "python DMRender.py -i ../../data/test_suite/dmRenderTests/NC16_001_query_0.dm --outRoot ./testcases/dump_test5 --plotTitle \"DMRender No Trial Number Test\" --display --noNum\n",
    "</code>\n",
    "<img src=\"./notebookImgs/dump_test5_ROC_all.png\" alt=\"Default ROC curve\" width=\"500\" height=\"400\" align=\"left\">"
   ]
  }
 ],
 "metadata": {
  "anaconda-cloud": {},
  "kernelspec": {
   "display_name": "Python 3",
   "language": "python",
   "name": "python3"
  },
  "language_info": {
   "codemirror_mode": {
    "name": "ipython",
    "version": 3
   },
   "file_extension": ".py",
   "mimetype": "text/x-python",
   "name": "python",
   "nbconvert_exporter": "python",
   "pygments_lexer": "ipython3",
   "version": "3.7.3"
  }
 },
 "nbformat": 4,
 "nbformat_minor": 1
}
